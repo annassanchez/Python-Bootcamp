{
 "cells": [
  {
   "cell_type": "markdown",
   "metadata": {},
   "source": [
    "# while loops\n",
    "while loops will continue to execute a block of code while some of the condition remains True.\n",
    "<br>for example, while my pool is not full, keep feeling my pool with water.\n",
    "<br>or while my dogs are still hungry, keep feeding my dogs.\n",
    "- syntax of a while loop\n",
    "    <br>while some_boolean_condition:\n",
    "        #do something\n",
    "- you can also combine a while statement with an else statement if you want\n",
    "    <br>while some_boolean_condition:\n",
    "        #do something\n",
    "    <br>else:\n",
    "        #do something different"
   ]
  },
  {
   "cell_type": "code",
   "execution_count": 2,
   "metadata": {},
   "outputs": [
    {
     "name": "stdout",
     "output_type": "stream",
     "text": [
      "The current value of x is 0\n",
      "The current value of x is 1\n",
      "The current value of x is 2\n",
      "The current value of x is 3\n",
      "The current value of x is 4\n"
     ]
    }
   ],
   "source": [
    "x = 0\n",
    "while x < 5: \n",
    "    print(f'The current value of x is {x}')\n",
    "    x = x+1 #if we don't change the value of x, the while loop will loop infinitely; you need to have a condition that makes it false "
   ]
  },
  {
   "cell_type": "code",
   "execution_count": 3,
   "metadata": {},
   "outputs": [
    {
     "name": "stdout",
     "output_type": "stream",
     "text": [
      "The current value of x is 0\n",
      "The current value of x is 1\n",
      "The current value of x is 2\n",
      "The current value of x is 3\n",
      "The current value of x is 4\n"
     ]
    }
   ],
   "source": [
    "x = 0\n",
    "while x < 5: \n",
    "    print(f'The current value of x is {x}')\n",
    "    x += 1 #another way of writing x+1"
   ]
  },
  {
   "cell_type": "code",
   "execution_count": 5,
   "metadata": {},
   "outputs": [
    {
     "name": "stdout",
     "output_type": "stream",
     "text": [
      "The current value of x is 0\n",
      "The current value of x is 1\n",
      "The current value of x is 2\n",
      "The current value of x is 3\n",
      "The current value of x is 4\n",
      "x is not less than 5\n"
     ]
    }
   ],
   "source": [
    "x = 0\n",
    "while x < 5: \n",
    "    print(f'The current value of x is {x}')\n",
    "    x += 1 #another way of writing x+1\n",
    "else:\n",
    "    print('x is not less than 5')#it works once when the condition is not true"
   ]
  },
  {
   "cell_type": "markdown",
   "metadata": {},
   "source": [
    "## break, continue, pass\n",
    "we can use break, continue and pass statements in our loops to add additional funcitonality for various cases. The three statements are defined by:\n",
    "    <br>break: breaks out the curren closest enclosing loop.\n",
    "    <br>continue: goes to the top of the closest enclosing loop\n",
    "    <br>pass: does nothing at all"
   ]
  },
  {
   "cell_type": "code",
   "execution_count": 9,
   "metadata": {},
   "outputs": [
    {
     "name": "stdout",
     "output_type": "stream",
     "text": [
      "end of my script\n"
     ]
    }
   ],
   "source": [
    "#pass\n",
    "x = [1,2,3]\n",
    "for item in x:\n",
    "    #comment\n",
    "    #if it is commented, with pass keyword allows the loop not to do anything\n",
    "    pass\n",
    "print('end of my script')"
   ]
  },
  {
   "cell_type": "code",
   "execution_count": 12,
   "metadata": {},
   "outputs": [
    {
     "name": "stdout",
     "output_type": "stream",
     "text": [
      "S\n",
      "m\n",
      "m\n",
      "y\n"
     ]
    }
   ],
   "source": [
    "#continue\n",
    "mystring = 'Sammy'\n",
    "for letter in mystring:\n",
    "    if letter == 'a': \n",
    "        continue #continue tells the program to go back in a current value, going back to the loop\n",
    "    print(letter)"
   ]
  },
  {
   "cell_type": "code",
   "execution_count": 14,
   "metadata": {},
   "outputs": [
    {
     "name": "stdout",
     "output_type": "stream",
     "text": [
      "S\n"
     ]
    }
   ],
   "source": [
    "#break\n",
    "mystring = 'Sammy'\n",
    "for letter in mystring:\n",
    "    if letter == 'a': \n",
    "        break #breaks the loop at a certain value\n",
    "    print(letter)"
   ]
  },
  {
   "cell_type": "code",
   "execution_count": 16,
   "metadata": {},
   "outputs": [
    {
     "name": "stdout",
     "output_type": "stream",
     "text": [
      "0\n",
      "1\n"
     ]
    }
   ],
   "source": [
    "x = 0\n",
    "\n",
    "while x < 5:\n",
    "    if x == 2:\n",
    "        break\n",
    "    print(x) \n",
    "    x +=1"
   ]
  }
 ],
 "metadata": {
  "kernelspec": {
   "display_name": "Python 3",
   "language": "python",
   "name": "python3"
  },
  "language_info": {
   "codemirror_mode": {
    "name": "ipython",
    "version": 3
   },
   "file_extension": ".py",
   "mimetype": "text/x-python",
   "name": "python",
   "nbconvert_exporter": "python",
   "pygments_lexer": "ipython3",
   "version": "3.8.3"
  }
 },
 "nbformat": 4,
 "nbformat_minor": 4
}
